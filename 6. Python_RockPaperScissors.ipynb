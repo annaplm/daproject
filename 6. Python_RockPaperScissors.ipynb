{
 "cells": [
  {
   "cell_type": "code",
   "execution_count": 1,
   "metadata": {},
   "outputs": [],
   "source": [
    "import random"
   ]
  },
  {
   "cell_type": "markdown",
   "metadata": {},
   "source": [
    "#### Trong project này chúng ta sẽ mô phỏng lại trò chơi dân gian oẳn tù tì.\n",
    "#### Cụ thể, chúng ta sẽ oẳn tù tì với máy. Máy sẽ chọn random búa, kéo, hoặc lá trong mỗi lần oẳn tù tì.\n",
    "#### Chúng ta sẽ chọn ra búa, kéo hoặc lá sau đó in ra kết quả. Trường hợp người chơi nhập sai, yêu cầu người chơi nhập lại theo đúng chính tả theo 3 sự lựa chọn búa, kéo, hoặc lá.\n",
    "#### Lưu ý, sau mỗi lượt chơi, máy sẽ random chọn lại búa kéo hoặc lá.\n",
    "\n",
    "#### Các kiến thức cover trong mini project này: Array, random, while loop, if - elif - else."
   ]
  },
  {
   "cell_type": "code",
   "execution_count": null,
   "metadata": {},
   "outputs": [
    {
     "name": "stdout",
     "output_type": "stream",
     "text": [
      "Lựa chọn của bạn: kd\n",
      "Bạn chọn kd\n",
      "Vui lòng nhập đúng chính tả!\n",
      "Lựa chọn của bạn: px\n",
      "Vui lòng nhập đúng chính tả!\n",
      "Lựa chọn của bạn: lá\n",
      "Bạn chọn lá , máy chọn lá. Hoà!\n",
      "Lựa chọn khác của bạn: kéo\n",
      "Bạn chọn kéo , máy chọn kéo. Hoà!\n",
      "Lựa chọn khác của bạn: búa\n",
      "Bạn chọn búa , máy chọn lá. Bạn đã thua!\n",
      "Lựa chọn khác của bạn: búa\n",
      "Bạn chọn búa , máy chọn lá. Bạn đã thua!\n",
      "Lựa chọn khác của bạn: búa\n",
      "Bạn chọn búa , máy chọn kéo. Bạn đã thắng!\n",
      "Lựa chọn khác của bạn: búa\n",
      "Bạn chọn búa , máy chọn lá. Bạn đã thua!\n",
      "Lựa chọn khác của bạn: kéo\n",
      "Bạn chọn kéo , máy chọn búa. Bạn đã thua!\n"
     ]
    }
   ],
   "source": [
    "# tạo array búa, kéo, lá\n",
    "array = ['búa', 'kéo', 'lá']\n",
    "a = 1\n",
    "# máy chọn random\n",
    "c = random.choice(array)\n",
    "u = input('Lựa chọn của bạn: ')\n",
    "print('Bạn chọn ' + u)\n",
    "\n",
    "# tạo vòng lặp while để chạy chương trình\n",
    "while True :\n",
    "    if u in array :\n",
    "        if c == u :\n",
    "            print('Bạn chọn ' + u, ', máy chọn ' + c + '. Hoà!')\n",
    "            c = random.choice(array)\n",
    "            u = input('Lựa chọn khác của bạn: ')\n",
    "        elif (c == 'búa' and u == 'kéo') or (c == 'kéo' and u == 'lá') or (c == 'lá' and u == 'búa') :\n",
    "            print('Bạn chọn ' + u, ', máy chọn ' + c + '. Bạn đã thua!')\n",
    "            c = random.choice(array)\n",
    "            u = input('Lựa chọn khác của bạn: ')\n",
    "        else :\n",
    "            print('Bạn chọn ' + u, ', máy chọn ' + c + '. Bạn đã thắng!')\n",
    "            c = random.choice(array)\n",
    "            u = input('Lựa chọn khác của bạn: ')\n",
    "    else :\n",
    "        print('Vui lòng nhập đúng chính tả!')\n",
    "        c = random.choice(array)\n",
    "        u = input('Lựa chọn của bạn: ')"
   ]
  },
  {
   "cell_type": "code",
   "execution_count": null,
   "metadata": {},
   "outputs": [],
   "source": []
  }
 ],
 "metadata": {
  "kernelspec": {
   "display_name": "Python 3 (ipykernel)",
   "language": "python",
   "name": "python3"
  },
  "language_info": {
   "codemirror_mode": {
    "name": "ipython",
    "version": 3
   },
   "file_extension": ".py",
   "mimetype": "text/x-python",
   "name": "python",
   "nbconvert_exporter": "python",
   "pygments_lexer": "ipython3",
   "version": "3.9.12"
  }
 },
 "nbformat": 4,
 "nbformat_minor": 2
}
