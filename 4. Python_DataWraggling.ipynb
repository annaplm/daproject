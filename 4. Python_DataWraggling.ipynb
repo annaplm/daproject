{
 "cells": [
  {
   "cell_type": "markdown",
   "id": "c9167a7f",
   "metadata": {},
   "source": [
    "# DATA WRANGLING PROJECT\n",
    "Calculate the total revenue of each product at relevant price using 2 datasets\n",
    "- prices.csv: records of product's history price changes in Sep 2018\n",
    "- sales.csv: records of product's sales in Sep 2018"
   ]
  },
  {
   "cell_type": "code",
   "execution_count": 1,
   "id": "35bfc412",
   "metadata": {},
   "outputs": [],
   "source": [
    "import pandas as pd\n",
    "sales = pd.read_csv('4. Python_Data_sales.csv')\n",
    "prices = pd.read_csv('4. Python_Data_prices.csv')"
   ]
  },
  {
   "cell_type": "code",
   "execution_count": 2,
   "id": "180221af",
   "metadata": {},
   "outputs": [],
   "source": [
    "# Convert datetime\n",
    "sales['ordered_at'] = pd.to_datetime(sales['ordered_at'], format = '%m/%d/%y %H:%M')\n",
    "prices['updated_at'] = pd.to_datetime(prices['updated_at'], format = '%m/%d/%y %H:%M')"
   ]
  },
  {
   "cell_type": "code",
   "execution_count": 3,
   "id": "991783c2",
   "metadata": {},
   "outputs": [],
   "source": [
    "# Sort 2 df\n",
    "sales = sales.sort_values('ordered_at')\n",
    "prices = prices.sort_values('updated_at')"
   ]
  },
  {
   "cell_type": "code",
   "execution_count": 4,
   "id": "63ede30c",
   "metadata": {},
   "outputs": [
    {
     "name": "stdout",
     "output_type": "stream",
     "text": [
      "     product_id          ordered_at  quantity_ordered\n",
      "86      3954203 2018-09-11 01:43:00                 1\n",
      "28      4085861 2018-09-11 06:26:00                 1\n",
      "26      4085861 2018-09-11 06:53:00                 1\n",
      "27      4085861 2018-09-11 08:24:00                 1\n",
      "123     4085861 2018-09-11 09:30:00                 1\n",
      "113     4085861 2018-09-11 11:06:00                 1\n",
      "25      3954203 2018-09-11 11:11:00                 1\n",
      "24      3954203 2018-09-11 11:11:00                 1\n",
      "112     4085861 2018-09-11 11:34:00                 1\n",
      "107     4085861 2018-09-11 11:47:00                 2\n",
      "    product_id  old_price  new_price          updated_at\n",
      "4      3954203      68800      60000 2018-09-10 16:32:00\n",
      "7      3998909      19000      17000 2018-09-10 16:35:00\n",
      "0           64     270000     239000 2018-09-10 16:37:00\n",
      "11     4085861      60000      53500 2018-09-11 08:51:00\n",
      "1      3954203      60000      64000 2018-09-11 11:54:00\n",
      "9      4085861      53500      67000 2018-09-12 03:51:00\n",
      "6      3998909      17000      15500 2018-09-13 06:43:00\n",
      "13     4085861      67000      62500 2018-09-13 06:43:00\n",
      "3      3954203      64000      60500 2018-09-15 03:49:00\n",
      "12     4085861      62500      58000 2018-09-15 03:51:00\n"
     ]
    }
   ],
   "source": [
    "print(sales.head(10))\n",
    "print(prices.head(10))"
   ]
  },
  {
   "cell_type": "code",
   "execution_count": 5,
   "id": "1828e5ac",
   "metadata": {},
   "outputs": [
    {
     "name": "stdout",
     "output_type": "stream",
     "text": [
      "     product_id          ordered_at  quantity_ordered    price\n",
      "0       3954203 2018-09-11 01:43:00                 1  60000.0\n",
      "1       4085861 2018-09-11 06:26:00                 1      NaN\n",
      "2       4085861 2018-09-11 06:53:00                 1      NaN\n",
      "3       4085861 2018-09-11 08:24:00                 1      NaN\n",
      "4       4085861 2018-09-11 09:30:00                 1  53500.0\n",
      "..          ...                 ...               ...      ...\n",
      "170     4085861 2018-09-18 20:23:00                 1  52000.0\n",
      "171     4085861 2018-09-18 20:43:00                 1  52000.0\n",
      "172     4085861 2018-09-18 20:54:00                 1  52000.0\n",
      "173     3954203 2018-09-18 21:26:00                 1  57500.0\n",
      "174     3998909 2018-09-18 22:11:00                 1  16500.0\n",
      "\n",
      "[175 rows x 4 columns]\n"
     ]
    }
   ],
   "source": [
    "# Merge sales and price table backward using merge_asof \n",
    "merge_back = pd.merge_asof(sales, prices, left_on='ordered_at', right_on='updated_at', by='product_id')\n",
    "merge_back = merge_back[['product_id', 'ordered_at', 'quantity_ordered', 'new_price']].rename(columns={'new_price':'price'})\n",
    "print(merge_back)"
   ]
  },
  {
   "cell_type": "code",
   "execution_count": 6,
   "id": "7de19ad3",
   "metadata": {},
   "outputs": [
    {
     "name": "stdout",
     "output_type": "stream",
     "text": [
      "   product_id          ordered_at  quantity_ordered    price  old_price  \\\n",
      "0     3954203 2018-09-11 01:43:00                 1  60000.0    60000.0   \n",
      "1     4085861 2018-09-11 06:26:00                 1      NaN    60000.0   \n",
      "2     4085861 2018-09-11 06:53:00                 1      NaN    60000.0   \n",
      "3     4085861 2018-09-11 08:24:00                 1      NaN    60000.0   \n",
      "4     4085861 2018-09-11 09:30:00                 1  53500.0    53500.0   \n",
      "\n",
      "   new_price          updated_at  \n",
      "0    64000.0 2018-09-11 11:54:00  \n",
      "1    53500.0 2018-09-11 08:51:00  \n",
      "2    53500.0 2018-09-11 08:51:00  \n",
      "3    53500.0 2018-09-11 08:51:00  \n",
      "4    67000.0 2018-09-12 03:51:00  \n"
     ]
    }
   ],
   "source": [
    "# Merge merge_back and price table forward using merge_asof \n",
    "merge_forw = pd.merge_asof(merge_back, prices, left_on='ordered_at', right_on='updated_at', by='product_id', \n",
    "                           direction='forward')\n",
    "print(merge_forw.head())"
   ]
  },
  {
   "cell_type": "code",
   "execution_count": 7,
   "id": "9f33dfdd",
   "metadata": {},
   "outputs": [
    {
     "name": "stdout",
     "output_type": "stream",
     "text": [
      "     product_id          ordered_at  quantity_ordered    price\n",
      "0       3954203 2018-09-11 01:43:00                 1  60000.0\n",
      "1       4085861 2018-09-11 06:26:00                 1  60000.0\n",
      "2       4085861 2018-09-11 06:53:00                 1  60000.0\n",
      "3       4085861 2018-09-11 08:24:00                 1  60000.0\n",
      "4       4085861 2018-09-11 09:30:00                 1  53500.0\n",
      "..          ...                 ...               ...      ...\n",
      "170     4085861 2018-09-18 20:23:00                 1  52000.0\n",
      "171     4085861 2018-09-18 20:43:00                 1  52000.0\n",
      "172     4085861 2018-09-18 20:54:00                 1  52000.0\n",
      "173     3954203 2018-09-18 21:26:00                 1  57500.0\n",
      "174     3998909 2018-09-18 22:11:00                 1  16500.0\n",
      "\n",
      "[175 rows x 4 columns]\n"
     ]
    }
   ],
   "source": [
    "# Fill  null values w old_price\n",
    "merge_forw['price'] = merge_forw['price'].fillna(merge_forw['old_price'])\n",
    "sales_w_prices = merge_forw[['product_id', 'ordered_at', 'quantity_ordered', 'price']]\n",
    "print(sales_w_prices)"
   ]
  },
  {
   "cell_type": "code",
   "execution_count": 8,
   "id": "505b5dab",
   "metadata": {},
   "outputs": [
    {
     "name": "stderr",
     "output_type": "stream",
     "text": [
      "/var/folders/3q/ncj57g4935l266gmcj7_bvs40000gn/T/ipykernel_1936/2335701143.py:2: SettingWithCopyWarning: \n",
      "A value is trying to be set on a copy of a slice from a DataFrame.\n",
      "Try using .loc[row_indexer,col_indexer] = value instead\n",
      "\n",
      "See the caveats in the documentation: https://pandas.pydata.org/pandas-docs/stable/user_guide/indexing.html#returning-a-view-versus-a-copy\n",
      "  sales_w_prices['revenue'] = sales_w_prices.quantity_ordered * sales_w_prices.price\n"
     ]
    }
   ],
   "source": [
    "# Calculate individual order's revenue\n",
    "sales_w_prices['revenue'] = sales_w_prices.quantity_ordered * sales_w_prices.price\n",
    "\n",
    "# Calculate total revenue\n",
    "total_revenue = sales_w_prices.groupby('product_id').agg({'revenue':'sum'})"
   ]
  },
  {
   "cell_type": "code",
   "execution_count": 9,
   "id": "d7940a22",
   "metadata": {},
   "outputs": [
    {
     "data": {
      "text/html": [
       "<div>\n",
       "<style scoped>\n",
       "    .dataframe tbody tr th:only-of-type {\n",
       "        vertical-align: middle;\n",
       "    }\n",
       "\n",
       "    .dataframe tbody tr th {\n",
       "        vertical-align: top;\n",
       "    }\n",
       "\n",
       "    .dataframe thead th {\n",
       "        text-align: right;\n",
       "    }\n",
       "</style>\n",
       "<table border=\"1\" class=\"dataframe\">\n",
       "  <thead>\n",
       "    <tr style=\"text-align: right;\">\n",
       "      <th></th>\n",
       "      <th>revenue</th>\n",
       "    </tr>\n",
       "    <tr>\n",
       "      <th>product_id</th>\n",
       "      <th></th>\n",
       "    </tr>\n",
       "  </thead>\n",
       "  <tbody>\n",
       "    <tr>\n",
       "      <th>64</th>\n",
       "      <td>956000.0</td>\n",
       "    </tr>\n",
       "    <tr>\n",
       "      <th>3954203</th>\n",
       "      <td>877500.0</td>\n",
       "    </tr>\n",
       "    <tr>\n",
       "      <th>3998909</th>\n",
       "      <td>280500.0</td>\n",
       "    </tr>\n",
       "    <tr>\n",
       "      <th>4085861</th>\n",
       "      <td>8247500.0</td>\n",
       "    </tr>\n",
       "  </tbody>\n",
       "</table>\n",
       "</div>"
      ],
      "text/plain": [
       "              revenue\n",
       "product_id           \n",
       "64           956000.0\n",
       "3954203      877500.0\n",
       "3998909      280500.0\n",
       "4085861     8247500.0"
      ]
     },
     "execution_count": 9,
     "metadata": {},
     "output_type": "execute_result"
    }
   ],
   "source": [
    "total_revenue"
   ]
  }
 ],
 "metadata": {
  "kernelspec": {
   "display_name": "Python 3 (ipykernel)",
   "language": "python",
   "name": "python3"
  },
  "language_info": {
   "codemirror_mode": {
    "name": "ipython",
    "version": 3
   },
   "file_extension": ".py",
   "mimetype": "text/x-python",
   "name": "python",
   "nbconvert_exporter": "python",
   "pygments_lexer": "ipython3",
   "version": "3.9.12"
  }
 },
 "nbformat": 4,
 "nbformat_minor": 5
}
