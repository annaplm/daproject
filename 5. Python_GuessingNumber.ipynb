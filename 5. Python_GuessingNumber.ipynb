{
 "cells": [
  {
   "cell_type": "code",
   "execution_count": 1,
   "metadata": {},
   "outputs": [],
   "source": [
    "import random"
   ]
  },
  {
   "cell_type": "markdown",
   "metadata": {},
   "source": [
    "### Trong project này, chúng ta sẽ làm 1 trò chơi nhỏ mang tên đoán số. Cụ thể, Máy tính sẽ chọn random 1 số từ 1 đến 10 (không in ra màn hình).\n",
    "### Chúng ta sẽ đoán máy tính chọn số bao nhiêu?\n",
    "#### - Nếu số chúng ta đoán thấp hơn máy tính thì in ra \"Your guessing number is too low\"\n",
    "#### - Nếu số chúng ta đoán cao hơn máy tính thì in ra \"Your guessing number is too high\"\n",
    "#### - Nếu chúng ta đoán đúng số thì in ra \"You got the correct number after\" xx \"tries\" trong đó xx là số lần đoán. (xx <= 5)\n",
    "#### - Trường hợp 5 lần đoán sai thì sẽ dừng trò chơi và in ra \"Gameover!!! The correct number is yy\" trong đó yy là số mà máy tính chọn\n",
    "\n",
    "#### Những kiến thức cover trong project này: input(), print(), while loop, if - elif - else, break."
   ]
  },
  {
   "cell_type": "code",
   "execution_count": 2,
   "metadata": {},
   "outputs": [
    {
     "name": "stdout",
     "output_type": "stream",
     "text": [
      "Your name: hg\n",
      "Player's name: hg\n",
      "Hello hg and welcome to this guessing game!\n",
      "6\n"
     ]
    }
   ],
   "source": [
    "# generate random number\n",
    "# guess_limit = 5\n",
    "random_number = random.randint(1,10)\n",
    "guess_limit = 5\n",
    "attempt = 0\n",
    "\n",
    "# input player's name\n",
    "name = input(\"Your name: \")\n",
    "print(\"Player's name: \"+ name)\n",
    "# Say hi and welcome player to the guessing game\n",
    "print(\"Hello \" + name + \" and welcome to this guessing game!\")"
   ]
  },
  {
   "cell_type": "code",
   "execution_count": 3,
   "metadata": {},
   "outputs": [
    {
     "name": "stdout",
     "output_type": "stream",
     "text": [
      "Your guess: 1\n",
      "Your guessing number is too low\n",
      "Your guess: 2\n",
      "Your guessing number is too low\n",
      "Your guess: 3\n",
      "Your guessing number is too low\n",
      "Your guess: 9\n",
      "Your guessing number is too high\n",
      "Your guess: 8\n",
      "Your guessing number is too high\n",
      "Gameover!!! The correct number is 6\n"
     ]
    }
   ],
   "source": [
    "# develop while loop\n",
    "# guess = input the number you guess\n",
    "while attempt < guess_limit :\n",
    "    attempt = attempt + 1\n",
    "    number = int(input(\"Your guess: \"))\n",
    "    if number < random_number :\n",
    "        print(\"Your guessing number is too low\")\n",
    "    elif number > random_number :\n",
    "        print(\"Your guessing number is too high\")\n",
    "    else :\n",
    "        print(\"You got the correct number after \" + str(attempt) + \" tries\")\n",
    "        break\n",
    "else :\n",
    "    print(\"Gameover!!! The correct number is \" + str(random_number))\n",
    "# stop the game when you find out the correct number after xx times (xx <= 5) OR the guessing number in your 5th attempt is still wrong\n"
   ]
  },
  {
   "cell_type": "code",
   "execution_count": null,
   "metadata": {},
   "outputs": [],
   "source": []
  }
 ],
 "metadata": {
  "kernelspec": {
   "display_name": "Python 3 (ipykernel)",
   "language": "python",
   "name": "python3"
  },
  "language_info": {
   "codemirror_mode": {
    "name": "ipython",
    "version": 3
   },
   "file_extension": ".py",
   "mimetype": "text/x-python",
   "name": "python",
   "nbconvert_exporter": "python",
   "pygments_lexer": "ipython3",
   "version": "3.9.12"
  }
 },
 "nbformat": 4,
 "nbformat_minor": 2
}
